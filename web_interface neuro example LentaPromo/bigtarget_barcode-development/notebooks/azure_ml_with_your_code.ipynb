{
 "cells": [
  {
   "attachments": {
    "image.png": {
     "image/png": "[encoded data removed]"
    }
   },
   "cell_type": "markdown",
   "metadata": {},
   "source": [
    "# Как прикрутить Azure ML к своему ноутбуку\n",
    "\n",
    "1. Скачиваете **config.json** из VM https://40.68.202.72:8000/ и кладете его в корень рядом с ноутбком, который планируете запускать (если что у каждого свой config файл)\n",
    "\n",
    "![image.png](attachment:image.png)\n",
    "\n",
    "2. Устанавливаете **Azureml SDK**\n",
    "\n",
    "    `pip install --upgrade azureml-sdk`\n",
    "\n",
    "\n",
    "3. Подтягиваете конфиг c помощью кода\n",
    "\n",
    "    - У меня открылось дополнительная вкладка логина в microsoft 😱\n",
    "\n",
    "   `from azureml.core import Workspace\n",
    "    ws = Workspace.from_config()`\n",
    "   "
   ]
  },
  {
   "attachments": {
    "image.png": {
     "image/png": "[encoded data removed]"
    }
   },
   "cell_type": "markdown",
   "metadata": {},
   "source": [
    "### Успех выглядит так:\n",
    "\n",
    "![image.png](attachment:image.png)"
   ]
  },
  {
   "cell_type": "code",
   "execution_count": 2,
   "metadata": {
    "ExecuteTime": {
     "end_time": "2020-06-26T14:30:06.907238Z",
     "start_time": "2020-06-26T14:30:06.880331Z"
    }
   },
   "outputs": [
    {
     "data": {
      "text/plain": [
       "'/Users/macdrive/GoogleDrive/Проекты/Uplift/sklift-env/bin/python'"
      ]
     },
     "execution_count": 2,
     "metadata": {},
     "output_type": "execute_result"
    }
   ],
   "source": [
    "import sys\n",
    "sys.executable"
   ]
  },
  {
   "cell_type": "code",
   "execution_count": null,
   "metadata": {
    "ExecuteTime": {
     "end_time": "2020-06-26T14:31:37.281825Z",
     "start_time": "2020-06-26T14:30:18.560379Z"
    }
   },
   "outputs": [],
   "source": [
    "!/Users/macdrive/GoogleDrive/Проекты/Uplift/sklift-env/bin/pip install --upgrade azureml-sdk"
   ]
  },
  {
   "cell_type": "code",
   "execution_count": 1,
   "metadata": {
    "ExecuteTime": {
     "end_time": "2020-06-26T14:53:18.130148Z",
     "start_time": "2020-06-26T14:53:10.961215Z"
    }
   },
   "outputs": [],
   "source": [
    "from azureml.core import Workspace\n",
    "ws = Workspace.from_config()"
   ]
  },
  {
   "cell_type": "markdown",
   "metadata": {},
   "source": [
    "Теперь код из `Intro.ipynb` работает у вас локально"
   ]
  },
  {
   "cell_type": "code",
   "execution_count": 4,
   "metadata": {
    "ExecuteTime": {
     "end_time": "2020-06-26T18:58:38.388139Z",
     "start_time": "2020-06-26T18:58:31.763256Z"
    }
   },
   "outputs": [],
   "source": [
    "from azureml.core import Dataset\n",
    "\n",
    "# get the dataset from Azure ML Workspace\n",
    "aml_dataset = Dataset.get_by_name(ws, 'train_ds', version='latest')\n",
    "pdf = aml_dataset.take(100).to_pandas_dataframe()"
   ]
  },
  {
   "cell_type": "code",
   "execution_count": 16,
   "metadata": {
    "ExecuteTime": {
     "end_time": "2020-06-26T20:18:23.017852Z",
     "start_time": "2020-06-26T20:18:23.011467Z"
    }
   },
   "outputs": [],
   "source": [
    "import pandas as pd\n",
    "from catboost import CatBoostClassifier\n",
    "from sklearn.model_selection import train_test_split\n",
    "import category_encoders as ce\n",
    "\n",
    "from sklift.models import TwoModels, SoloModel\n",
    "from sklift.metrics import uplift_at_k\n",
    "from sklift.viz import plot_uplift_by_percentile"
   ]
  },
  {
   "cell_type": "markdown",
   "metadata": {},
   "source": [
    "# Data"
   ]
  },
  {
   "cell_type": "code",
   "execution_count": 28,
   "metadata": {
    "ExecuteTime": {
     "end_time": "2020-06-26T20:38:30.693194Z",
     "start_time": "2020-06-26T20:38:30.354651Z"
    }
   },
   "outputs": [
    {
     "data": {
      "text/html": [
       "<div>\n",
       "<style scoped>\n",
       "    .dataframe tbody tr th:only-of-type {\n",
       "        vertical-align: middle;\n",
       "    }\n",
       "\n",
       "    .dataframe tbody tr th {\n",
       "        vertical-align: top;\n",
       "    }\n",
       "\n",
       "    .dataframe thead th {\n",
       "        text-align: right;\n",
       "    }\n",
       "</style>\n",
       "<table border=\"1\" class=\"dataframe\">\n",
       "  <thead>\n",
       "    <tr style=\"text-align: right;\">\n",
       "      <th></th>\n",
       "      <th>Unnamed: 0</th>\n",
       "      <th>_c0</th>\n",
       "      <th>cardholder</th>\n",
       "      <th>age</th>\n",
       "      <th>cheque_count_12m_g20</th>\n",
       "      <th>cheque_count_12m_g21</th>\n",
       "      <th>cheque_count_12m_g25</th>\n",
       "      <th>cheque_count_12m_g32</th>\n",
       "      <th>cheque_count_12m_g33</th>\n",
       "      <th>cheque_count_12m_g38</th>\n",
       "      <th>...</th>\n",
       "      <th>sale_sum_6m_g24</th>\n",
       "      <th>sale_sum_6m_g25</th>\n",
       "      <th>sale_sum_6m_g26</th>\n",
       "      <th>sale_sum_6m_g32</th>\n",
       "      <th>sale_sum_6m_g33</th>\n",
       "      <th>sale_sum_6m_g44</th>\n",
       "      <th>sale_sum_6m_g54</th>\n",
       "      <th>stdev_days_between_visits_15d</th>\n",
       "      <th>stdev_discount_depth_15d</th>\n",
       "      <th>stdev_discount_depth_1m</th>\n",
       "    </tr>\n",
       "  </thead>\n",
       "  <tbody>\n",
       "    <tr>\n",
       "      <th>0</th>\n",
       "      <td>52121</td>\n",
       "      <td>52121</td>\n",
       "      <td>16105597</td>\n",
       "      <td>24.0</td>\n",
       "      <td>0.0</td>\n",
       "      <td>1.0</td>\n",
       "      <td>1.0</td>\n",
       "      <td>0.0</td>\n",
       "      <td>2.0</td>\n",
       "      <td>1.0</td>\n",
       "      <td>...</td>\n",
       "      <td>254.41</td>\n",
       "      <td>90.45</td>\n",
       "      <td>0.00</td>\n",
       "      <td>0.0</td>\n",
       "      <td>503.51</td>\n",
       "      <td>347.52</td>\n",
       "      <td>192.96</td>\n",
       "      <td>0.0000</td>\n",
       "      <td>0.2268</td>\n",
       "      <td>0.2268</td>\n",
       "    </tr>\n",
       "    <tr>\n",
       "      <th>1</th>\n",
       "      <td>419274</td>\n",
       "      <td>419274</td>\n",
       "      <td>16632516</td>\n",
       "      <td>56.0</td>\n",
       "      <td>0.0</td>\n",
       "      <td>2.0</td>\n",
       "      <td>0.0</td>\n",
       "      <td>0.0</td>\n",
       "      <td>0.0</td>\n",
       "      <td>0.0</td>\n",
       "      <td>...</td>\n",
       "      <td>23.05</td>\n",
       "      <td>0.00</td>\n",
       "      <td>0.00</td>\n",
       "      <td>0.0</td>\n",
       "      <td>0.00</td>\n",
       "      <td>15.12</td>\n",
       "      <td>12.26</td>\n",
       "      <td>0.0000</td>\n",
       "      <td>0.0000</td>\n",
       "      <td>0.0000</td>\n",
       "    </tr>\n",
       "    <tr>\n",
       "      <th>2</th>\n",
       "      <td>87178</td>\n",
       "      <td>87178</td>\n",
       "      <td>16604173</td>\n",
       "      <td>53.0</td>\n",
       "      <td>1.0</td>\n",
       "      <td>1.0</td>\n",
       "      <td>4.0</td>\n",
       "      <td>0.0</td>\n",
       "      <td>4.0</td>\n",
       "      <td>2.0</td>\n",
       "      <td>...</td>\n",
       "      <td>744.88</td>\n",
       "      <td>583.29</td>\n",
       "      <td>740.38</td>\n",
       "      <td>0.0</td>\n",
       "      <td>1990.94</td>\n",
       "      <td>573.91</td>\n",
       "      <td>563.70</td>\n",
       "      <td>0.0000</td>\n",
       "      <td>NaN</td>\n",
       "      <td>NaN</td>\n",
       "    </tr>\n",
       "    <tr>\n",
       "      <th>3</th>\n",
       "      <td>141909</td>\n",
       "      <td>141909</td>\n",
       "      <td>15950518</td>\n",
       "      <td>33.0</td>\n",
       "      <td>0.0</td>\n",
       "      <td>0.0</td>\n",
       "      <td>0.0</td>\n",
       "      <td>0.0</td>\n",
       "      <td>0.0</td>\n",
       "      <td>0.0</td>\n",
       "      <td>...</td>\n",
       "      <td>0.00</td>\n",
       "      <td>0.00</td>\n",
       "      <td>0.00</td>\n",
       "      <td>0.0</td>\n",
       "      <td>0.00</td>\n",
       "      <td>0.00</td>\n",
       "      <td>0.00</td>\n",
       "      <td>2.0817</td>\n",
       "      <td>0.3537</td>\n",
       "      <td>0.3537</td>\n",
       "    </tr>\n",
       "    <tr>\n",
       "      <th>4</th>\n",
       "      <td>5874</td>\n",
       "      <td>5874</td>\n",
       "      <td>16284740</td>\n",
       "      <td>50.0</td>\n",
       "      <td>0.0</td>\n",
       "      <td>5.0</td>\n",
       "      <td>3.0</td>\n",
       "      <td>2.0</td>\n",
       "      <td>15.0</td>\n",
       "      <td>16.0</td>\n",
       "      <td>...</td>\n",
       "      <td>903.29</td>\n",
       "      <td>116.87</td>\n",
       "      <td>341.85</td>\n",
       "      <td>497.2</td>\n",
       "      <td>3251.84</td>\n",
       "      <td>1910.61</td>\n",
       "      <td>1736.45</td>\n",
       "      <td>0.0000</td>\n",
       "      <td>0.0000</td>\n",
       "      <td>NaN</td>\n",
       "    </tr>\n",
       "  </tbody>\n",
       "</table>\n",
       "<p>5 rows × 198 columns</p>\n",
       "</div>"
      ],
      "text/plain": [
       "   Unnamed: 0     _c0  cardholder   age  cheque_count_12m_g20  \\\n",
       "0       52121   52121    16105597  24.0                   0.0   \n",
       "1      419274  419274    16632516  56.0                   0.0   \n",
       "2       87178   87178    16604173  53.0                   1.0   \n",
       "3      141909  141909    15950518  33.0                   0.0   \n",
       "4        5874    5874    16284740  50.0                   0.0   \n",
       "\n",
       "   cheque_count_12m_g21  cheque_count_12m_g25  cheque_count_12m_g32  \\\n",
       "0                   1.0                   1.0                   0.0   \n",
       "1                   2.0                   0.0                   0.0   \n",
       "2                   1.0                   4.0                   0.0   \n",
       "3                   0.0                   0.0                   0.0   \n",
       "4                   5.0                   3.0                   2.0   \n",
       "\n",
       "   cheque_count_12m_g33  cheque_count_12m_g38  ...  sale_sum_6m_g24  \\\n",
       "0                   2.0                   1.0  ...           254.41   \n",
       "1                   0.0                   0.0  ...            23.05   \n",
       "2                   4.0                   2.0  ...           744.88   \n",
       "3                   0.0                   0.0  ...             0.00   \n",
       "4                  15.0                  16.0  ...           903.29   \n",
       "\n",
       "   sale_sum_6m_g25  sale_sum_6m_g26  sale_sum_6m_g32  sale_sum_6m_g33  \\\n",
       "0            90.45             0.00              0.0           503.51   \n",
       "1             0.00             0.00              0.0             0.00   \n",
       "2           583.29           740.38              0.0          1990.94   \n",
       "3             0.00             0.00              0.0             0.00   \n",
       "4           116.87           341.85            497.2          3251.84   \n",
       "\n",
       "   sale_sum_6m_g44  sale_sum_6m_g54  stdev_days_between_visits_15d  \\\n",
       "0           347.52           192.96                         0.0000   \n",
       "1            15.12            12.26                         0.0000   \n",
       "2           573.91           563.70                         0.0000   \n",
       "3             0.00             0.00                         2.0817   \n",
       "4          1910.61          1736.45                         0.0000   \n",
       "\n",
       "   stdev_discount_depth_15d  stdev_discount_depth_1m  \n",
       "0                    0.2268                   0.2268  \n",
       "1                    0.0000                   0.0000  \n",
       "2                       NaN                      NaN  \n",
       "3                    0.3537                   0.3537  \n",
       "4                    0.0000                      NaN  \n",
       "\n",
       "[5 rows x 198 columns]"
      ]
     },
     "execution_count": 28,
     "metadata": {},
     "output_type": "execute_result"
    }
   ],
   "source": [
    "data = pd.read_csv('data_sample.csv')    \n",
    "\n",
    "data.head()"
   ]
  },
  {
   "cell_type": "code",
   "execution_count": 29,
   "metadata": {
    "ExecuteTime": {
     "end_time": "2020-06-26T20:38:32.740627Z",
     "start_time": "2020-06-26T20:38:32.728196Z"
    }
   },
   "outputs": [],
   "source": [
    "target_col = 'response_att'\n",
    "treatment_col = 'group'\n",
    "\n",
    "to_delete = ['Unnamed: 0', '_c0', 'cardholder']\n",
    "\n",
    "data = data.drop(to_delete, axis=1)"
   ]
  },
  {
   "cell_type": "code",
   "execution_count": 67,
   "metadata": {
    "ExecuteTime": {
     "end_time": "2020-06-26T20:59:15.871803Z",
     "start_time": "2020-06-26T20:59:15.720261Z"
    }
   },
   "outputs": [
    {
     "data": {
      "text/plain": [
       "(7000, 193)"
      ]
     },
     "execution_count": 67,
     "metadata": {},
     "output_type": "execute_result"
    }
   ],
   "source": [
    "X_train, X_val = train_test_split(data,\n",
    "                                  stratify=data[[target_col, treatment_col]],\n",
    "                                  test_size=0.3,\n",
    "                                  random_state=42)\n",
    "\n",
    "y_train = X_train[target_col]\n",
    "treat_train = X_train[treatment_col].map({'test': 1, 'control': 0})\n",
    "\n",
    "y_val = X_val[target_col]\n",
    "treat_val = X_val[treatment_col].map({'test': 1, 'control': 0})\n",
    "\n",
    "X_train = X_train.drop([treatment_col, target_col], axis=1)\n",
    "X_val = X_val.drop([treatment_col, target_col], axis=1)\n",
    "\n",
    "X_train.shape"
   ]
  },
  {
   "cell_type": "code",
   "execution_count": 70,
   "metadata": {
    "ExecuteTime": {
     "end_time": "2020-06-26T21:00:07.442454Z",
     "start_time": "2020-06-26T21:00:07.334145Z"
    }
   },
   "outputs": [
    {
     "name": "stdout",
     "output_type": "stream",
     "text": [
      "(7000, 193)\n"
     ]
    },
    {
     "data": {
      "text/plain": [
       "6222    0.100831\n",
       "3644    0.100831\n",
       "815     0.100831\n",
       "22      0.119885\n",
       "8065    0.119885\n",
       "Name: gender, dtype: float64"
      ]
     },
     "execution_count": 70,
     "metadata": {},
     "output_type": "execute_result"
    }
   ],
   "source": [
    "encoder = ce.TargetEncoder(cols=['gender'])\n",
    "X_train = encoder.fit_transform(X_train, y_train)\n",
    "X_val = encoder.transform(X_val)\n",
    "print(X_train.shape)\n",
    "X_train['gender'].head()"
   ]
  },
  {
   "cell_type": "code",
   "execution_count": 72,
   "metadata": {
    "ExecuteTime": {
     "end_time": "2020-06-26T21:00:58.463726Z",
     "start_time": "2020-06-26T21:00:58.454058Z"
    }
   },
   "outputs": [
    {
     "data": {
      "text/plain": [
       "1    5248\n",
       "0    1752\n",
       "Name: group, dtype: int64"
      ]
     },
     "execution_count": 72,
     "metadata": {},
     "output_type": "execute_result"
    }
   ],
   "source": [
    "treat_train.value_counts()"
   ]
  },
  {
   "cell_type": "code",
   "execution_count": 73,
   "metadata": {
    "ExecuteTime": {
     "end_time": "2020-06-26T21:01:00.342100Z",
     "start_time": "2020-06-26T21:01:00.334527Z"
    }
   },
   "outputs": [
    {
     "data": {
      "text/plain": [
       "(dtype('int64'), dtype('int64'))"
      ]
     },
     "execution_count": 73,
     "metadata": {},
     "output_type": "execute_result"
    }
   ],
   "source": [
    "y_train.dtype, treat_train.dtype"
   ]
  },
  {
   "cell_type": "markdown",
   "metadata": {},
   "source": [
    "# Model logging"
   ]
  },
  {
   "cell_type": "code",
   "execution_count": 74,
   "metadata": {
    "ExecuteTime": {
     "end_time": "2020-06-26T21:01:03.162259Z",
     "start_time": "2020-06-26T21:01:03.157624Z"
    }
   },
   "outputs": [],
   "source": [
    "import azureml.core\n",
    "from azureml.core.authentication import InteractiveLoginAuthentication\n",
    "from azureml.core import Experiment, Workspace"
   ]
  },
  {
   "cell_type": "code",
   "execution_count": 82,
   "metadata": {
    "ExecuteTime": {
     "end_time": "2020-06-26T21:18:48.484418Z",
     "start_time": "2020-06-26T21:18:38.261043Z"
    }
   },
   "outputs": [],
   "source": [
    "# Get an experiment object from Azure Machine Learning\n",
    "experiment = Experiment(workspace=ws, name=\"uplift\")\n",
    "\n",
    "# Create a run object in the experiment\n",
    "run =  experiment.start_logging()\n",
    "\n",
    "run.log('model', 'twomodel')\n",
    "run.log('method', 'ddr_control')\n",
    "\n",
    "twomodel = TwoModels(\n",
    "    estimator_trmnt=CatBoostClassifier(iterations=100, thread_count=2, random_state=42, silent=True), \n",
    "    estimator_ctrl=CatBoostClassifier(iterations=100, thread_count=2, random_state=42, silent=True), \n",
    "    method='ddr_control')\n",
    "\n",
    "twomodel.fit(X_train, y_train, treat_train)\n",
    "\n",
    "uplift_twomodel = twomodel.predict(X_val)\n",
    "\n",
    "run.log(\n",
    "    'uplift@k', \n",
    "    uplift_at_k(y_val, uplift_twomodel, treat_val, strategy='overall', k=0.25)\n",
    ")\n",
    "\n",
    "# Complete the run\n",
    "run.complete()"
   ]
  },
  {
   "cell_type": "code",
   "execution_count": 76,
   "metadata": {
    "ExecuteTime": {
     "end_time": "2020-06-26T21:01:17.365109Z",
     "start_time": "2020-06-26T21:01:17.346355Z"
    }
   },
   "outputs": [
    {
     "data": {
      "text/html": [
       "<table style=\"width:100%\"><tr><th>Experiment</th><th>Id</th><th>Type</th><th>Status</th><th>Details Page</th><th>Docs Page</th></tr><tr><td>uplift</td><td>9d44aa76-ff3f-4644-b525-b1367dfd03c4</td><td></td><td>Running</td><td><a href=\"https://ml.azure.com/experiments/uplift/runs/9d44aa76-ff3f-4644-b525-b1367dfd03c4?wsid=/subscriptions/012d2650-b1a2-4d8e-ac7b-a38cad247985/resourcegroups/team09/workspaces/team09\" target=\"_blank\" rel=\"noopener\">Link to Azure Machine Learning studio</a></td><td><a href=\"https://docs.microsoft.com/en-us/python/api/azureml-core/azureml.core.run.Run?view=azure-ml-py\" target=\"_blank\" rel=\"noopener\">Link to Documentation</a></td></tr></table>"
      ],
      "text/plain": [
       "Run(Experiment: uplift,\n",
       "Id: 9d44aa76-ff3f-4644-b525-b1367dfd03c4,\n",
       "Type: None,\n",
       "Status: Running)"
      ]
     },
     "execution_count": 76,
     "metadata": {},
     "output_type": "execute_result"
    }
   ],
   "source": [
    "run"
   ]
  },
  {
   "cell_type": "code",
   "execution_count": 77,
   "metadata": {
    "ExecuteTime": {
     "end_time": "2020-06-26T21:01:19.962151Z",
     "start_time": "2020-06-26T21:01:19.950582Z"
    }
   },
   "outputs": [
    {
     "data": {
      "text/html": [
       "<table style=\"width:100%\"><tr><th>Name</th><th>Workspace</th><th>Report Page</th><th>Docs Page</th></tr><tr><td>uplift</td><td>team09</td><td><a href=\"https://ml.azure.com/experiments/uplift?wsid=/subscriptions/012d2650-b1a2-4d8e-ac7b-a38cad247985/resourcegroups/team09/workspaces/team09\" target=\"_blank\" rel=\"noopener\">Link to Azure Machine Learning studio</a></td><td><a href=\"https://docs.microsoft.com/en-us/python/api/azureml-core/azureml.core.experiment.Experiment?view=azure-ml-py\" target=\"_blank\" rel=\"noopener\">Link to Documentation</a></td></tr></table>"
      ],
      "text/plain": [
       "Experiment(Name: uplift,\n",
       "Workspace: team09)"
      ]
     },
     "execution_count": 77,
     "metadata": {},
     "output_type": "execute_result"
    }
   ],
   "source": [
    "experiment"
   ]
  },
  {
   "cell_type": "code",
   "execution_count": null,
   "metadata": {},
   "outputs": [],
   "source": []
  }
 ],
 "metadata": {
  "kernelspec": {
   "display_name": "sklift-env",
   "language": "python",
   "name": "sklift-env"
  },
  "language_info": {
   "codemirror_mode": {
    "name": "ipython",
    "version": 3
   },
   "file_extension": ".py",
   "mimetype": "text/x-python",
   "name": "python",
   "nbconvert_exporter": "python",
   "pygments_lexer": "ipython3",
   "version": "3.7.1"
  }
 },
 "nbformat": 4,
 "nbformat_minor": 4
}
