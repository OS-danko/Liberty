{
 "cells": [
  {
   "cell_type": "code",
   "execution_count": 1,
   "metadata": {
    "ExecuteTime": {
     "end_time": "2020-06-28T07:44:46.162782Z",
     "start_time": "2020-06-28T07:44:44.985619Z"
    }
   },
   "outputs": [],
   "source": [
    "%matplotlib inline\n",
    "\n",
    "import pandas as pd; pd.set_option('display.max_columns', None)\n",
    "import numpy as np\n",
    "\n",
    "import matplotlib.pyplot as plt\n",
    "from pylab import rcParams; rcParams['font.family'] = ['DejaVu Sans']\n",
    "import seaborn as sns\n",
    "\n",
    "from tqdm import tqdm_notebook as tqdm"
   ]
  },
  {
   "cell_type": "code",
   "execution_count": 3,
   "metadata": {
    "ExecuteTime": {
     "end_time": "2020-06-28T07:45:37.958043Z",
     "start_time": "2020-06-28T07:45:01.778899Z"
    }
   },
   "outputs": [
    {
     "name": "stderr",
     "output_type": "stream",
     "text": [
      "/opt/anaconda2/envs/py36/lib/python3.6/site-packages/h5py/__init__.py:34: FutureWarning: Conversion of the second argument of issubdtype from `float` to `np.floating` is deprecated. In future, it will be treated as `np.float64 == np.dtype(float).type`.\n",
      "  from ._conv import register_converters as _register_converters\n",
      "/home/mvshevc5/.local/lib/python3.6/site-packages/pyarrow/pandas_compat.py:752: FutureWarning: .labels was deprecated in version 0.24.0. Use .codes instead.\n",
      "  labels, = index.labels\n"
     ]
    }
   ],
   "source": [
    "data = spark.read.csv('/user/mvshevc5/data.csv', inferSchema=True, header=True)\n",
    "df = pandify2(data).toPandas().drop(['_c0'], axis=1)\n",
    "train = df\n",
    "\n",
    "test = spark.read.csv('/user/mvshevc5/test.csv', inferSchema=True, header=True)\n",
    "test = pandify2(test).toPandas().drop(['_c0'], axis=1)\n",
    "\n",
    "spark.stop()"
   ]
  },
  {
   "cell_type": "markdown",
   "metadata": {},
   "source": [
    "# Grouped bar chart: treatment groups"
   ]
  },
  {
   "cell_type": "code",
   "execution_count": 4,
   "metadata": {
    "ExecuteTime": {
     "end_time": "2020-06-28T07:45:38.032997Z",
     "start_time": "2020-06-28T07:45:37.960849Z"
    }
   },
   "outputs": [
    {
     "data": {
      "text/plain": [
       "{'control': 171137, 'test': 515892}"
      ]
     },
     "execution_count": 4,
     "metadata": {},
     "output_type": "execute_result"
    }
   ],
   "source": [
    "df.groupby(['group'])['response_att'].count().to_dict()"
   ]
  },
  {
   "cell_type": "markdown",
   "metadata": {},
   "source": [
    "# Bar chart: response rates by treatment"
   ]
  },
  {
   "cell_type": "code",
   "execution_count": 5,
   "metadata": {
    "ExecuteTime": {
     "end_time": "2020-06-28T07:45:38.059027Z",
     "start_time": "2020-06-28T07:45:38.035287Z"
    }
   },
   "outputs": [
    {
     "data": {
      "text/plain": [
       "0.0075471269267721325"
      ]
     },
     "execution_count": 5,
     "metadata": {},
     "output_type": "execute_result"
    }
   ],
   "source": [
    "0.11012576275654594 - 0.1025786358297738"
   ]
  },
  {
   "cell_type": "code",
   "execution_count": 6,
   "metadata": {
    "ExecuteTime": {
     "end_time": "2020-06-28T07:45:38.512626Z",
     "start_time": "2020-06-28T07:45:38.060874Z"
    }
   },
   "outputs": [
    {
     "data": {
      "text/plain": [
       "{'control': 0.1025786358297738, 'test': 0.11012576275654594}"
      ]
     },
     "execution_count": 6,
     "metadata": {},
     "output_type": "execute_result"
    }
   ],
   "source": [
    "(df.groupby(['group'])['response_att'].sum() / df.groupby(['group'])['response_att'].count()).to_dict()"
   ]
  },
  {
   "cell_type": "markdown",
   "metadata": {},
   "source": [
    "# Конверсия среди мужчин"
   ]
  },
  {
   "cell_type": "code",
   "execution_count": 7,
   "metadata": {
    "ExecuteTime": {
     "end_time": "2020-06-28T07:45:39.837843Z",
     "start_time": "2020-06-28T07:45:38.515088Z"
    }
   },
   "outputs": [
    {
     "name": "stdout",
     "output_type": "stream",
     "text": [
      "0.815\n"
     ]
    }
   ],
   "source": [
    "female = df[df['gender']=='М'].groupby('group')['response_att'].sum() /\\\n",
    "            df[df['gender']=='М'].groupby('group')['response_att'].count()\n",
    "uplift_female = female['test'] - female['control']\n",
    "print(f'{uplift_female * 100:.3f}')"
   ]
  },
  {
   "cell_type": "code",
   "execution_count": 8,
   "metadata": {
    "ExecuteTime": {
     "end_time": "2020-06-28T07:45:41.657603Z",
     "start_time": "2020-06-28T07:45:39.840410Z"
    }
   },
   "outputs": [
    {
     "name": "stdout",
     "output_type": "stream",
     "text": [
      "0.739\n"
     ]
    }
   ],
   "source": [
    "male = df[df['gender']=='Ж'].groupby('group')['response_att'].sum() /\\\n",
    "            df[df['gender']=='Ж'].groupby('group')['response_att'].count()\n",
    "uplift_male = male['test'] - male['control']\n",
    "print(f'{uplift_male * 100:.3f}')\n"
   ]
  },
  {
   "cell_type": "code",
   "execution_count": 9,
   "metadata": {
    "ExecuteTime": {
     "end_time": "2020-06-28T07:45:41.668891Z",
     "start_time": "2020-06-28T07:45:41.660073Z"
    }
   },
   "outputs": [],
   "source": [
    "from tqdm.auto import tqdm\n",
    "\n",
    "def bootstrap_mean_diff_ci(data_fst, data_snd, alpha=0.05, iters=1000, return_distribution=False):\n",
    "    dist = []\n",
    "    for _ in tqdm(range(iters)):\n",
    "        \n",
    "        first_sample = data_fst.sample(len(data_fst), replace=True)\n",
    "        first = first_sample.groupby('group')['response_att'].sum() /\\\n",
    "            first_sample.groupby('group')['response_att'].count()\n",
    "        first_uplift = first['test'] - first['control']\n",
    "        \n",
    "        second_sample = data_snd.sample(len(data_fst), replace=True)\n",
    "        second = second_sample.groupby('group')['response_att'].sum() /\\\n",
    "            second_sample.groupby('group')['response_att'].count()\n",
    "        second_uplift = second['test'] - second['control']\n",
    "        \n",
    "        dist.append(first_uplift - second_uplift)\n",
    "        \n",
    "    if return_distribution:\n",
    "        return dist\n",
    "    return np.percentile(dist, [100 * alpha / 2., 100 * (1 - alpha / 2.)])"
   ]
  },
  {
   "cell_type": "code",
   "execution_count": 10,
   "metadata": {
    "ExecuteTime": {
     "end_time": "2020-06-28T07:45:41.674387Z",
     "start_time": "2020-06-28T07:45:41.671348Z"
    }
   },
   "outputs": [],
   "source": [
    "def get_p_value(dist):\n",
    "    dist = np.array(dist)\n",
    "    x = (dist > 0).mean()\n",
    "    pvalue = min(x, 1-x) * 2\n",
    "    return pvalue"
   ]
  },
  {
   "cell_type": "code",
   "execution_count": 11,
   "metadata": {
    "ExecuteTime": {
     "end_time": "2020-06-28T08:20:07.703308Z",
     "start_time": "2020-06-28T07:45:41.676270Z"
    }
   },
   "outputs": [
    {
     "data": {
      "application/vnd.jupyter.widget-view+json": {
       "model_id": "c8da84c967034118a34269fb3ae1bcf5",
       "version_major": 2,
       "version_minor": 0
      },
      "text/plain": [
       "HBox(children=(IntProgress(value=0, max=1000), HTML(value='')))"
      ]
     },
     "metadata": {},
     "output_type": "display_data"
    },
    {
     "name": "stdout",
     "output_type": "stream",
     "text": [
      "\n"
     ]
    }
   ],
   "source": [
    "dist = bootstrap_mean_diff_ci(\n",
    "    df[df['gender']=='М'], df[df['gender']=='Ж'], alpha=0.05, iters=1000, return_distribution=True\n",
    ")"
   ]
  },
  {
   "cell_type": "code",
   "execution_count": 12,
   "metadata": {
    "ExecuteTime": {
     "end_time": "2020-06-28T08:20:08.244688Z",
     "start_time": "2020-06-28T08:20:07.705786Z"
    }
   },
   "outputs": [
    {
     "data": {
      "text/plain": [
       "<matplotlib.axes._subplots.AxesSubplot at 0x7ff33513ed68>"
      ]
     },
     "execution_count": 12,
     "metadata": {},
     "output_type": "execute_result"
    },
    {
     "name": "stderr",
     "output_type": "stream",
     "text": [
      "/home/mvshevc5/.local/lib/python3.6/site-packages/matplotlib/font_manager.py:1331: UserWarning: findfont: Font family ['sans-serif'] not found. Falling back to DejaVu Sans\n",
      "  (prop.get_family(), self.defaultFamily[fontext]))\n"
     ]
    },
    {
     "data": {
      "image/png": "[encoded data removed]",
      "text/plain": [
       "<Figure size 576x396 with 1 Axes>"
      ]
     },
     "metadata": {},
     "output_type": "display_data"
    }
   ],
   "source": [
    "pd.Series(dist).hist(bins=100)"
   ]
  },
  {
   "cell_type": "code",
   "execution_count": 13,
   "metadata": {
    "ExecuteTime": {
     "end_time": "2020-06-28T08:20:08.251613Z",
     "start_time": "2020-06-28T08:20:08.246972Z"
    }
   },
   "outputs": [
    {
     "data": {
      "text/plain": [
       "0.722"
      ]
     },
     "execution_count": 13,
     "metadata": {},
     "output_type": "execute_result"
    }
   ],
   "source": [
    "get_p_value(dist)"
   ]
  },
  {
   "cell_type": "markdown",
   "metadata": {},
   "source": [
    "# Распределение uplift@k в зависимости от признака"
   ]
  },
  {
   "cell_type": "code",
   "execution_count": 14,
   "metadata": {
    "ExecuteTime": {
     "end_time": "2020-06-28T08:25:50.109417Z",
     "start_time": "2020-06-28T08:20:08.253531Z"
    }
   },
   "outputs": [
    {
     "data": {
      "application/vnd.jupyter.widget-view+json": {
       "model_id": "dc021bfd7b5547d0b21870557f0b6af0",
       "version_major": 2,
       "version_minor": 0
      },
      "text/plain": [
       "HBox(children=(IntProgress(value=0), HTML(value='')))"
      ]
     },
     "metadata": {},
     "output_type": "display_data"
    },
    {
     "name": "stderr",
     "output_type": "stream",
     "text": [
      "/home/mvshevc5/.local/lib/python3.6/site-packages/pandas/core/indexing.py:543: SettingWithCopyWarning: \n",
      "A value is trying to be set on a copy of a slice from a DataFrame.\n",
      "Try using .loc[row_indexer,col_indexer] = value instead\n",
      "\n",
      "See the caveats in the documentation: http://pandas.pydata.org/pandas-docs/stable/indexing.html#indexing-view-versus-copy\n",
      "  self.obj[item] = s\n"
     ]
    },
    {
     "name": "stdout",
     "output_type": "stream",
     "text": [
      "\n"
     ]
    }
   ],
   "source": [
    "from sklift.metrics import uplift_at_k, uplift_auc_score, qini_auc_score\n",
    "from sklearn.model_selection import train_test_split\n",
    "\n",
    "def get_feat_uplift(\n",
    "    feat,\n",
    "    n_iter=100\n",
    "):\n",
    "    uplift_feat = []\n",
    "    for iter_ in tqdm(range(1, (n_iter+1))):\n",
    "\n",
    "        _, df_val = train_test_split(\n",
    "            df, \n",
    "            test_size=0.3,\n",
    "            random_state=42+iter_\n",
    "        )\n",
    "        \n",
    "        df_val.loc[:, 'group'] = df_val['group'].map({\n",
    "            'test': 1,\n",
    "            'control': 0\n",
    "        })\n",
    "\n",
    "        score_val = uplift_at_k(\n",
    "            y_true=df_val['response_att'], \n",
    "            uplift=df_val[feat], \n",
    "            treatment=df_val['group'], \n",
    "            strategy='overall', \n",
    "            k=0.25\n",
    "        )\n",
    "\n",
    "        uplift_feat.append(score_val)\n",
    "    uplift_feat_res = np.array(uplift_feat)\n",
    "    return uplift_feat_res\n",
    "\n",
    "cheque_count_distr = get_feat_uplift('cheque_count_12m_g48', 100)"
   ]
  },
  {
   "cell_type": "code",
   "execution_count": 15,
   "metadata": {
    "ExecuteTime": {
     "end_time": "2020-06-28T08:25:50.116188Z",
     "start_time": "2020-06-28T08:25:50.112200Z"
    }
   },
   "outputs": [],
   "source": [
    "cheque_count_mean = np.mean(cheque_count_distr)\n",
    "cheque_count_std = np.std(cheque_count_distr)\n",
    "random = 0.0075471269267721325"
   ]
  },
  {
   "cell_type": "code",
   "execution_count": 46,
   "metadata": {
    "ExecuteTime": {
     "end_time": "2020-06-28T10:44:41.438046Z",
     "start_time": "2020-06-28T10:44:41.431910Z"
    }
   },
   "outputs": [
    {
     "data": {
      "text/plain": [
       "0.7999999999999998"
      ]
     },
     "execution_count": 46,
     "metadata": {},
     "output_type": "execute_result"
    }
   ],
   "source": [
    "1.13 - 0.33"
   ]
  },
  {
   "cell_type": "code",
   "execution_count": 45,
   "metadata": {
    "ExecuteTime": {
     "end_time": "2020-06-28T10:43:51.954387Z",
     "start_time": "2020-06-28T10:43:51.944677Z"
    }
   },
   "outputs": [
    {
     "name": "stdout",
     "output_type": "stream",
     "text": [
      "Uplift@25% random: 0.7547\n",
      "Uplift@25% mean: 1.1317\n",
      "Uplift@25% std: 0.3339\n"
     ]
    }
   ],
   "source": [
    "print(f'Uplift@25% random: {0.0075471269267721325 * 100:.4f}')\n",
    "print(f'Uplift@25% mean: {cheque_count_mean * 100:.4f}')\n",
    "print(f'Uplift@25% std: {cheque_count_std * 100:.4f}')"
   ]
  },
  {
   "cell_type": "code",
   "execution_count": 16,
   "metadata": {
    "ExecuteTime": {
     "end_time": "2020-06-28T08:25:50.502395Z",
     "start_time": "2020-06-28T08:25:50.118180Z"
    }
   },
   "outputs": [
    {
     "data": {
      "text/plain": [
       "<matplotlib.axes._subplots.AxesSubplot at 0x7ff36c1cb4e0>"
      ]
     },
     "execution_count": 16,
     "metadata": {},
     "output_type": "execute_result"
    },
    {
     "name": "stderr",
     "output_type": "stream",
     "text": [
      "/home/mvshevc5/.local/lib/python3.6/site-packages/matplotlib/font_manager.py:1331: UserWarning: findfont: Font family ['sans-serif'] not found. Falling back to DejaVu Sans\n",
      "  (prop.get_family(), self.defaultFamily[fontext]))\n"
     ]
    },
    {
     "data": {
      "image/png": "[encoded data removed]",
      "text/plain": [
       "<Figure size 576x396 with 1 Axes>"
      ]
     },
     "metadata": {},
     "output_type": "display_data"
    }
   ],
   "source": [
    "pd.Series(cheque_count_distr).hist(bins=30)"
   ]
  },
  {
   "cell_type": "markdown",
   "metadata": {},
   "source": [
    "# Adversarial validation: treatment groups"
   ]
  },
  {
   "cell_type": "code",
   "execution_count": 17,
   "metadata": {
    "ExecuteTime": {
     "end_time": "2020-06-28T08:25:57.626639Z",
     "start_time": "2020-06-28T08:25:50.504661Z"
    }
   },
   "outputs": [],
   "source": [
    "from sklearn.model_selection import train_test_split\n",
    "\n",
    "\n",
    "Xy_tr, Xy_val = train_test_split(df.drop(['response_att'], axis=1), test_size=0.3, stratify=df['group'])\n",
    "Xy_tr.loc[:, 'group'] = Xy_tr['group'].map({'test': 1, 'control': 0})\n",
    "Xy_tr.loc[:, 'gender'] = Xy_tr['gender'].fillna('NAN_cat')\n",
    "\n",
    "Xy_val.loc[:, 'group'] = Xy_val['group'].map({'test': 1, 'control': 0})\n",
    "Xy_val.loc[:, 'gender'] = Xy_val['gender'].fillna('NAN_cat')"
   ]
  },
  {
   "cell_type": "code",
   "execution_count": 18,
   "metadata": {
    "ExecuteTime": {
     "end_time": "2020-06-28T08:26:24.608193Z",
     "start_time": "2020-06-28T08:25:57.629193Z"
    }
   },
   "outputs": [
    {
     "name": "stdout",
     "output_type": "stream",
     "text": [
      "Learning rate set to 0.024003\n",
      "0:\tlearn: 0.6865859\ttotal: 20.2ms\tremaining: 20.2s\n",
      "100:\tlearn: 0.5536413\ttotal: 1.84s\tremaining: 16.4s\n",
      "200:\tlearn: 0.5471125\ttotal: 4.1s\tremaining: 16.3s\n",
      "300:\tlearn: 0.5463712\ttotal: 6.42s\tremaining: 14.9s\n",
      "400:\tlearn: 0.5459676\ttotal: 8.68s\tremaining: 13s\n",
      "500:\tlearn: 0.5457759\ttotal: 10.9s\tremaining: 10.9s\n",
      "600:\tlearn: 0.5456277\ttotal: 13.1s\tremaining: 8.71s\n",
      "700:\tlearn: 0.5455185\ttotal: 15.3s\tremaining: 6.54s\n",
      "800:\tlearn: 0.5453996\ttotal: 17.6s\tremaining: 4.37s\n",
      "900:\tlearn: 0.5453139\ttotal: 19.9s\tremaining: 2.18s\n",
      "999:\tlearn: 0.5451959\ttotal: 22.1s\tremaining: 0us\n",
      "0.5551308255098013\n"
     ]
    }
   ],
   "source": [
    "from catboost import CatBoostClassifier\n",
    "from sklearn.metrics import roc_auc_score, roc_curve\n",
    "\n",
    "model = CatBoostClassifier(task_type='GPU', devices='0')\n",
    "\n",
    "model.fit(Xy_tr.drop('group', axis=1), Xy_tr['group'].values, cat_features=['gender'], verbose=100)\n",
    "preds = model.predict_proba(Xy_val.drop('group', axis=1))[:, 1]\n",
    "\n",
    "score = roc_auc_score(Xy_val['group'].values, preds)\n",
    "\n",
    "print(score)"
   ]
  },
  {
   "cell_type": "code",
   "execution_count": 19,
   "metadata": {
    "ExecuteTime": {
     "end_time": "2020-06-28T08:26:25.164293Z",
     "start_time": "2020-06-28T08:26:24.610604Z"
    }
   },
   "outputs": [],
   "source": [
    "preds_smaple = model.predict_proba(Xy_val.drop('group', axis=1).sample(1000, random_state=42))[:, 1]\n",
    "\n",
    "\n",
    "fpr, tpr, _ = roc_curve(\n",
    "    Xy_val['group'].sample(1000, random_state=42).values, \n",
    "    preds_smaple\n",
    ")\n",
    "adv_validation_roc = {\n",
    "    'roc_auc_score': score,\n",
    "    'x_model': fpr.tolist(),\n",
    "    'y_model': tpr.tolist(),\n",
    "    'x_random': [0, 1],\n",
    "    'y_random': [0, 1]\n",
    "}\n",
    "\n",
    "adv_validation_fi = {\n",
    "    'features': model.get_feature_importance(prettified=True).head(14)['Feature Id'].values.tolist(),\n",
    "    'importances': model.get_feature_importance(prettified=True).head(14)['Importances'].values.tolist(),\n",
    "}"
   ]
  },
  {
   "cell_type": "code",
   "execution_count": 20,
   "metadata": {
    "ExecuteTime": {
     "end_time": "2020-06-28T08:26:25.219224Z",
     "start_time": "2020-06-28T08:26:25.167076Z"
    },
    "scrolled": false
   },
   "outputs": [
    {
     "data": {
      "text/html": [
       "<div>\n",
       "<style scoped>\n",
       "    .dataframe tbody tr th:only-of-type {\n",
       "        vertical-align: middle;\n",
       "    }\n",
       "\n",
       "    .dataframe tbody tr th {\n",
       "        vertical-align: top;\n",
       "    }\n",
       "\n",
       "    .dataframe thead th {\n",
       "        text-align: right;\n",
       "    }\n",
       "</style>\n",
       "<table border=\"1\" class=\"dataframe\">\n",
       "  <thead>\n",
       "    <tr style=\"text-align: right;\">\n",
       "      <th></th>\n",
       "      <th>Feature Id</th>\n",
       "      <th>Importances</th>\n",
       "    </tr>\n",
       "  </thead>\n",
       "  <tbody>\n",
       "    <tr>\n",
       "      <th>0</th>\n",
       "      <td>response_sms</td>\n",
       "      <td>24.445618</td>\n",
       "    </tr>\n",
       "    <tr>\n",
       "      <th>1</th>\n",
       "      <td>response_viber</td>\n",
       "      <td>19.575376</td>\n",
       "    </tr>\n",
       "    <tr>\n",
       "      <th>2</th>\n",
       "      <td>gender</td>\n",
       "      <td>13.633982</td>\n",
       "    </tr>\n",
       "    <tr>\n",
       "      <th>3</th>\n",
       "      <td>sale_count_12m_g49</td>\n",
       "      <td>4.315264</td>\n",
       "    </tr>\n",
       "    <tr>\n",
       "      <th>4</th>\n",
       "      <td>k_var_sku_price_6m_g49</td>\n",
       "      <td>3.142772</td>\n",
       "    </tr>\n",
       "    <tr>\n",
       "      <th>5</th>\n",
       "      <td>cheque_count_12m_g48</td>\n",
       "      <td>2.495197</td>\n",
       "    </tr>\n",
       "    <tr>\n",
       "      <th>6</th>\n",
       "      <td>k_var_disc_share_6m_g49</td>\n",
       "      <td>2.365497</td>\n",
       "    </tr>\n",
       "    <tr>\n",
       "      <th>7</th>\n",
       "      <td>promo_share_15d</td>\n",
       "      <td>1.886817</td>\n",
       "    </tr>\n",
       "    <tr>\n",
       "      <th>8</th>\n",
       "      <td>food_share_15d</td>\n",
       "      <td>1.824252</td>\n",
       "    </tr>\n",
       "    <tr>\n",
       "      <th>9</th>\n",
       "      <td>sale_sum_12m_g27</td>\n",
       "      <td>1.820984</td>\n",
       "    </tr>\n",
       "  </tbody>\n",
       "</table>\n",
       "</div>"
      ],
      "text/plain": [
       "                Feature Id  Importances\n",
       "0  response_sms             24.445618  \n",
       "1  response_viber           19.575376  \n",
       "2  gender                   13.633982  \n",
       "3  sale_count_12m_g49       4.315264   \n",
       "4  k_var_sku_price_6m_g49   3.142772   \n",
       "5  cheque_count_12m_g48     2.495197   \n",
       "6  k_var_disc_share_6m_g49  2.365497   \n",
       "7  promo_share_15d          1.886817   \n",
       "8  food_share_15d           1.824252   \n",
       "9  sale_sum_12m_g27         1.820984   "
      ]
     },
     "execution_count": 20,
     "metadata": {},
     "output_type": "execute_result"
    }
   ],
   "source": [
    "model.get_feature_importance(prettified=True).head(10)"
   ]
  },
  {
   "cell_type": "markdown",
   "metadata": {},
   "source": [
    "# Adversarial validation: train vs test"
   ]
  },
  {
   "cell_type": "code",
   "execution_count": 22,
   "metadata": {
    "ExecuteTime": {
     "end_time": "2020-06-28T08:33:50.940113Z",
     "start_time": "2020-06-28T08:33:27.236272Z"
    }
   },
   "outputs": [],
   "source": [
    "from sklearn.model_selection import train_test_split\n",
    "\n",
    "full = pd.concat([train , test], sort=False).reset_index(drop=True)\n",
    "full.loc[:, 'adv_target'] = (pd.isna(full['response_att'])).astype(int).values\n",
    "\n",
    "Xy_tr, Xy_val = train_test_split(\n",
    "    full.drop(['response_att', 'group'], axis=1), test_size=0.3, \n",
    "    stratify=full['adv_target']\n",
    ")\n",
    "Xy_tr.loc[:, 'gender'] = Xy_tr['gender'].fillna('NAN_cat')\n",
    "Xy_val.loc[:, 'gender'] = Xy_val['gender'].fillna('NAN_cat')"
   ]
  },
  {
   "cell_type": "code",
   "execution_count": 23,
   "metadata": {
    "ExecuteTime": {
     "end_time": "2020-06-28T08:34:24.881968Z",
     "start_time": "2020-06-28T08:33:50.943177Z"
    }
   },
   "outputs": [
    {
     "name": "stdout",
     "output_type": "stream",
     "text": [
      "Learning rate set to 0.023532\n",
      "0:\tlearn: 0.6892966\ttotal: 21.4ms\tremaining: 21.4s\n",
      "100:\tlearn: 0.6101373\ttotal: 1.98s\tremaining: 17.6s\n",
      "200:\tlearn: 0.6084744\ttotal: 4.26s\tremaining: 16.9s\n",
      "300:\tlearn: 0.6083338\ttotal: 7.18s\tremaining: 16.7s\n",
      "400:\tlearn: 0.6082361\ttotal: 9.93s\tremaining: 14.8s\n",
      "500:\tlearn: 0.6081432\ttotal: 12.8s\tremaining: 12.7s\n",
      "600:\tlearn: 0.6080647\ttotal: 15.6s\tremaining: 10.4s\n",
      "700:\tlearn: 0.6080045\ttotal: 18.7s\tremaining: 7.96s\n",
      "800:\tlearn: 0.6079389\ttotal: 21.7s\tremaining: 5.38s\n",
      "900:\tlearn: 0.6078764\ttotal: 24.7s\tremaining: 2.71s\n",
      "999:\tlearn: 0.6078205\ttotal: 27.7s\tremaining: 0us\n",
      "0.5063854390831818\n"
     ]
    }
   ],
   "source": [
    "from catboost import CatBoostClassifier\n",
    "from sklearn.metrics import roc_auc_score, roc_curve\n",
    "\n",
    "model = CatBoostClassifier(task_type='GPU', devices='0')\n",
    "\n",
    "model.fit(Xy_tr.drop('adv_target', axis=1), Xy_tr['adv_target'].values, cat_features=['gender'], verbose=100)\n",
    "preds = model.predict_proba(Xy_val.drop('adv_target', axis=1))[:, 1]\n",
    "\n",
    "score = roc_auc_score(Xy_val['adv_target'].values, preds)\n",
    "\n",
    "print(score)"
   ]
  },
  {
   "cell_type": "code",
   "execution_count": 24,
   "metadata": {
    "ExecuteTime": {
     "end_time": "2020-06-28T08:34:25.680238Z",
     "start_time": "2020-06-28T08:34:24.885926Z"
    }
   },
   "outputs": [],
   "source": [
    "preds_smaple = model.predict_proba(Xy_val.drop('adv_target', axis=1).sample(1000, random_state=42))[:, 1]\n",
    "\n",
    "\n",
    "fpr_trvste, tpr_trvste, _ = roc_curve(\n",
    "    Xy_val['adv_target'].sample(1000, random_state=42).values, \n",
    "    preds_smaple\n",
    ")\n",
    "adv_validation_roc_trvste = {\n",
    "    'roc_auc_score': score,\n",
    "    'x_model': fpr_trvste.tolist(),\n",
    "    'y_model': tpr_trvste.tolist(),\n",
    "    'x_random': [0, 1],\n",
    "    'y_random': [0, 1]\n",
    "}\n",
    "\n",
    "adv_validation_fi_trvste = {\n",
    "    'features': model.get_feature_importance(prettified=True).head(14)['Feature Id'].values.tolist(),\n",
    "    'importances': model.get_feature_importance(prettified=True).head(14)['Importances'].values.tolist(),\n",
    "}"
   ]
  },
  {
   "cell_type": "markdown",
   "metadata": {
    "ExecuteTime": {
     "end_time": "2020-06-27T10:31:10.688470Z",
     "start_time": "2020-06-27T10:31:10.627876Z"
    }
   },
   "source": [
    "# Формируем json"
   ]
  },
  {
   "cell_type": "code",
   "execution_count": 38,
   "metadata": {
    "ExecuteTime": {
     "end_time": "2020-06-28T08:57:11.723161Z",
     "start_time": "2020-06-28T08:57:11.505959Z"
    }
   },
   "outputs": [],
   "source": [
    "insights = {\n",
    "    'Grouped bar chart': df.groupby(['group'])['response_att'].count().to_dict(),\n",
    "    'Bar chart': (df.groupby(['group'])['response_att'].sum() / df.groupby(['group'])['response_att'].count()).to_dict(),\n",
    "    'check_count_uplift': {\n",
    "        'distr': cheque_count_distr.tolist(),\n",
    "        'cheque_count_mean': cheque_count_mean,\n",
    "        'cheque_count_std': cheque_count_std,\n",
    "        'random': random,\n",
    "    },\n",
    "    'sex_uplift': {\n",
    "        'distr': dist,\n",
    "        'mean': np.mean(dist),\n",
    "        'std': np.std(dist)\n",
    "    },\n",
    "    'adv_treatment': {\n",
    "        'adv_validation_roc': adv_validation_roc,\n",
    "        'adv_validation_fi': adv_validation_fi,\n",
    "\n",
    "    },\n",
    "    'adv_test': {\n",
    "        'adv_validation_roc': adv_validation_roc_trvste,\n",
    "        'adv_validation_fi': adv_validation_fi_trvste,\n",
    "    }\n",
    "}"
   ]
  },
  {
   "cell_type": "code",
   "execution_count": 39,
   "metadata": {
    "ExecuteTime": {
     "end_time": "2020-06-28T08:57:12.544338Z",
     "start_time": "2020-06-28T08:57:12.526713Z"
    }
   },
   "outputs": [],
   "source": [
    "import json\n",
    "\n",
    "with open(\"insights.json\", \"w\") as fp:\n",
    "    json.dump(insights , fp) "
   ]
  },
  {
   "cell_type": "code",
   "execution_count": null,
   "metadata": {},
   "outputs": [],
   "source": []
  }
 ],
 "metadata": {
  "kernelspec": {
   "display_name": "py36",
   "language": "python",
   "name": "py36"
  },
  "language_info": {
   "codemirror_mode": {
    "name": "ipython",
    "version": 3
   },
   "file_extension": ".py",
   "mimetype": "text/x-python",
   "name": "python",
   "nbconvert_exporter": "python",
   "pygments_lexer": "ipython3",
   "version": "3.6.1"
  }
 },
 "nbformat": 4,
 "nbformat_minor": 2
}
