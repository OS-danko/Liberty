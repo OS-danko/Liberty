{
 "cells": [
  {
   "cell_type": "code",
   "execution_count": 10,
   "metadata": {},
   "outputs": [
    {
     "name": "stdout",
     "output_type": "stream",
     "text": [
      "Using PyTorch version: 1.1.0  Device: cpu\n"
     ]
    }
   ],
   "source": [
    "%matplotlib inline\n",
    "\n",
    "import torch\n",
    "import torch.nn as nn\n",
    "import torch.nn.functional as F\n",
    "from torchvision import datasets, transforms\n",
    "import seaborn as sns\n",
    "sns.set()\n",
    "\n",
    "import numpy as np\n",
    "import matplotlib.pyplot as plt\n",
    "\n",
    "if torch.cuda.is_available():\n",
    "    device = torch.device('cuda')\n",
    "else:\n",
    "    device = torch.device('cpu')\n",
    "    \n",
    "print('Using PyTorch version:', torch.__version__, ' Device:', device)"
   ]
  },
  {
   "cell_type": "code",
   "execution_count": 2,
   "metadata": {
    "collapsed": true
   },
   "outputs": [],
   "source": [
    "batch_size = 32\n",
    "\n",
    "train_dataset = datasets.MNIST('./data', \n",
    "                               train=True, \n",
    "                               download=True, \n",
    "                               transform=transforms.ToTensor())\n",
    "\n",
    "validation_dataset = datasets.MNIST('./data', \n",
    "                                    train=False, \n",
    "                                    transform=transforms.ToTensor())\n",
    "\n",
    "train_loader = torch.utils.data.DataLoader(dataset=train_dataset, \n",
    "                                           batch_size=batch_size, \n",
    "                                           shuffle=True)\n",
    "\n",
    "validation_loader = torch.utils.data.DataLoader(dataset=validation_dataset, \n",
    "                                                batch_size=batch_size, \n",
    "                                                shuffle=False)"
   ]
  },
  {
   "cell_type": "code",
   "execution_count": 3,
   "metadata": {},
   "outputs": [
    {
     "name": "stdout",
     "output_type": "stream",
     "text": [
      "X_train: torch.Size([32, 1, 28, 28]) type: torch.FloatTensor\n",
      "y_train: torch.Size([32]) type: torch.LongTensor\n"
     ]
    }
   ],
   "source": [
    "for (X_train, y_train) in train_loader:\n",
    "    print('X_train:', X_train.size(), 'type:', X_train.type())\n",
    "    print('y_train:', y_train.size(), 'type:', y_train.type())\n",
    "    break"
   ]
  },
  {
   "cell_type": "code",
   "execution_count": 4,
   "metadata": {},
   "outputs": [
    {
     "data": {
      "image/png": "[encoded data removed]",
      "text/plain": [
       "<matplotlib.figure.Figure at 0x1301e2908>"
      ]
     },
     "metadata": {},
     "output_type": "display_data"
    }
   ],
   "source": [
    "pltsize=1\n",
    "plt.figure(figsize=(10*pltsize, pltsize))\n",
    "\n",
    "for i in range(10):\n",
    "    plt.subplot(1,10,i+1)\n",
    "    plt.axis('off')\n",
    "    plt.imshow(X_train[i,:,:,:].numpy().reshape(28,28), cmap=\"gray\")\n",
    "    plt.title('Class: '+str(y_train[i].item()))"
   ]
  },
  {
   "cell_type": "code",
   "execution_count": 5,
   "metadata": {},
   "outputs": [
    {
     "name": "stdout",
     "output_type": "stream",
     "text": [
      "Net(\n",
      "  (fc1): Linear(in_features=784, out_features=50, bias=True)\n",
      "  (fc1_drop): Dropout(p=0.2)\n",
      "  (fc2): Linear(in_features=50, out_features=50, bias=True)\n",
      "  (fc2_drop): Dropout(p=0.2)\n",
      "  (fc3): Linear(in_features=50, out_features=10, bias=True)\n",
      ")\n"
     ]
    }
   ],
   "source": [
    "class Net(nn.Module):\n",
    "    def __init__(self):\n",
    "        super(Net, self).__init__()\n",
    "        self.fc1 = nn.Linear(28*28, 50)\n",
    "        self.fc1_drop = nn.Dropout(0.2)\n",
    "        self.fc2 = nn.Linear(50, 50)\n",
    "        self.fc2_drop = nn.Dropout(0.2)\n",
    "        self.fc3 = nn.Linear(50, 10)\n",
    "\n",
    "    def forward(self, x):\n",
    "        x = x.view(-1, 28*28)\n",
    "        x = F.relu(self.fc1(x))\n",
    "        x = self.fc1_drop(x)\n",
    "        x = F.relu(self.fc2(x))\n",
    "        x = self.fc2_drop(x)\n",
    "        return F.log_softmax(self.fc3(x), dim=1)\n",
    "\n",
    "model = Net().to(device)\n",
    "optimizer = torch.optim.SGD(model.parameters(), lr=0.01, momentum=0.5)\n",
    "criterion = nn.CrossEntropyLoss()\n",
    "\n",
    "print(model)"
   ]
  },
  {
   "cell_type": "code",
   "execution_count": 6,
   "metadata": {
    "collapsed": true
   },
   "outputs": [],
   "source": [
    "def train(epoch, log_interval=200):\n",
    "    model.train()\n",
    "    \n",
    "    for batch_idx, (data, target) in enumerate(train_loader):\n",
    "\n",
    "        data = data.to(device)\n",
    "        target = target.to(device)\n",
    "\n",
    "        optimizer.zero_grad() \n",
    "        \n",
    "        output = model(data)\n",
    "\n",
    "        loss = criterion(output, target)\n",
    "\n",
    "        loss.backward()\n",
    "        \n",
    "        optimizer.step()\n",
    "        \n",
    "        if batch_idx % log_interval == 0:\n",
    "            print('Train Epoch: {} [{}/{} ({:.0f}%)]\\tLoss: {:.6f}'.format(\n",
    "                epoch, batch_idx * len(data), len(train_loader.dataset),\n",
    "                100. * batch_idx / len(train_loader), loss.data.item()))"
   ]
  },
  {
   "cell_type": "code",
   "execution_count": 7,
   "metadata": {
    "collapsed": true
   },
   "outputs": [],
   "source": [
    "def validate(loss_vector, accuracy_vector):\n",
    "    model.eval()\n",
    "    val_loss, correct = 0, 0\n",
    "    for data, target in validation_loader:\n",
    "        data = data.to(device)\n",
    "        target = target.to(device)\n",
    "        output = model(data)\n",
    "        val_loss += criterion(output, target).data.item()\n",
    "        pred = output.data.max(1)[1] \n",
    "        correct += pred.eq(target.data).cpu().sum()\n",
    "\n",
    "    val_loss /= len(validation_loader)\n",
    "    loss_vector.append(val_loss)\n",
    "\n",
    "    accuracy = 100. * correct.to(torch.float32) / len(validation_loader.dataset)\n",
    "    accuracy_vector.append(accuracy)\n",
    "    \n",
    "    print('\\nValidation set: Average loss: {:.4f}, Accuracy: {}/{} ({:.0f}%)\\n'.format(\n",
    "        val_loss, correct, len(validation_loader.dataset), accuracy))"
   ]
  },
  {
   "cell_type": "code",
   "execution_count": 8,
   "metadata": {},
   "outputs": [
    {
     "name": "stdout",
     "output_type": "stream",
     "text": [
      "Train Epoch: 1 [0/60000 (0%)]\tLoss: 2.323731\n",
      "Train Epoch: 1 [6400/60000 (11%)]\tLoss: 2.045702\n",
      "Train Epoch: 1 [12800/60000 (21%)]\tLoss: 1.198774\n",
      "Train Epoch: 1 [19200/60000 (32%)]\tLoss: 1.056133\n",
      "Train Epoch: 1 [25600/60000 (43%)]\tLoss: 0.619113\n",
      "Train Epoch: 1 [32000/60000 (53%)]\tLoss: 0.776581\n",
      "Train Epoch: 1 [38400/60000 (64%)]\tLoss: 0.809030\n",
      "Train Epoch: 1 [44800/60000 (75%)]\tLoss: 0.483947\n",
      "Train Epoch: 1 [51200/60000 (85%)]\tLoss: 0.797354\n",
      "Train Epoch: 1 [57600/60000 (96%)]\tLoss: 0.398720\n",
      "\n",
      "Validation set: Average loss: 0.3459, Accuracy: 8999/10000 (90%)\n",
      "\n",
      "Train Epoch: 2 [0/60000 (0%)]\tLoss: 0.749291\n",
      "Train Epoch: 2 [6400/60000 (11%)]\tLoss: 0.521450\n",
      "Train Epoch: 2 [12800/60000 (21%)]\tLoss: 0.558710\n",
      "Train Epoch: 2 [19200/60000 (32%)]\tLoss: 0.694403\n",
      "Train Epoch: 2 [25600/60000 (43%)]\tLoss: 0.362416\n",
      "Train Epoch: 2 [32000/60000 (53%)]\tLoss: 0.412588\n",
      "Train Epoch: 2 [38400/60000 (64%)]\tLoss: 0.500237\n",
      "Train Epoch: 2 [44800/60000 (75%)]\tLoss: 0.355419\n",
      "Train Epoch: 2 [51200/60000 (85%)]\tLoss: 0.225074\n",
      "Train Epoch: 2 [57600/60000 (96%)]\tLoss: 0.388776\n",
      "\n",
      "Validation set: Average loss: 0.2580, Accuracy: 9248/10000 (92%)\n",
      "\n",
      "Train Epoch: 3 [0/60000 (0%)]\tLoss: 0.311440\n",
      "Train Epoch: 3 [6400/60000 (11%)]\tLoss: 0.549645\n",
      "Train Epoch: 3 [12800/60000 (21%)]\tLoss: 0.220834\n",
      "Train Epoch: 3 [19200/60000 (32%)]\tLoss: 0.400417\n",
      "Train Epoch: 3 [25600/60000 (43%)]\tLoss: 0.326595\n",
      "Train Epoch: 3 [32000/60000 (53%)]\tLoss: 0.444815\n",
      "Train Epoch: 3 [38400/60000 (64%)]\tLoss: 0.232190\n",
      "Train Epoch: 3 [44800/60000 (75%)]\tLoss: 0.200449\n",
      "Train Epoch: 3 [51200/60000 (85%)]\tLoss: 0.185314\n",
      "Train Epoch: 3 [57600/60000 (96%)]\tLoss: 0.275974\n",
      "\n",
      "Validation set: Average loss: 0.2105, Accuracy: 9373/10000 (94%)\n",
      "\n",
      "Train Epoch: 4 [0/60000 (0%)]\tLoss: 0.241445\n",
      "Train Epoch: 4 [6400/60000 (11%)]\tLoss: 0.305077\n",
      "Train Epoch: 4 [12800/60000 (21%)]\tLoss: 0.179592\n",
      "Train Epoch: 4 [19200/60000 (32%)]\tLoss: 0.550496\n",
      "Train Epoch: 4 [25600/60000 (43%)]\tLoss: 0.244069\n",
      "Train Epoch: 4 [32000/60000 (53%)]\tLoss: 0.285348\n",
      "Train Epoch: 4 [38400/60000 (64%)]\tLoss: 0.327083\n",
      "Train Epoch: 4 [44800/60000 (75%)]\tLoss: 0.312845\n",
      "Train Epoch: 4 [51200/60000 (85%)]\tLoss: 0.203688\n",
      "Train Epoch: 4 [57600/60000 (96%)]\tLoss: 0.271827\n",
      "\n",
      "Validation set: Average loss: 0.1810, Accuracy: 9468/10000 (95%)\n",
      "\n",
      "Train Epoch: 5 [0/60000 (0%)]\tLoss: 0.229198\n",
      "Train Epoch: 5 [6400/60000 (11%)]\tLoss: 0.242941\n",
      "Train Epoch: 5 [12800/60000 (21%)]\tLoss: 0.446527\n",
      "Train Epoch: 5 [19200/60000 (32%)]\tLoss: 0.155835\n",
      "Train Epoch: 5 [25600/60000 (43%)]\tLoss: 0.143015\n",
      "Train Epoch: 5 [32000/60000 (53%)]\tLoss: 0.231068\n",
      "Train Epoch: 5 [38400/60000 (64%)]\tLoss: 0.186621\n",
      "Train Epoch: 5 [44800/60000 (75%)]\tLoss: 0.274174\n",
      "Train Epoch: 5 [51200/60000 (85%)]\tLoss: 0.057228\n",
      "Train Epoch: 5 [57600/60000 (96%)]\tLoss: 0.107216\n",
      "\n",
      "Validation set: Average loss: 0.1656, Accuracy: 9493/10000 (95%)\n",
      "\n",
      "CPU times: user 3min 24s, sys: 6min 33s, total: 9min 57s\n",
      "Wall time: 1min 26s\n"
     ]
    }
   ],
   "source": [
    "%%time\n",
    "epochs = 5\n",
    "\n",
    "lossv, accv = [], []\n",
    "for epoch in range(1, epochs + 1):\n",
    "    train(epoch)\n",
    "    validate(lossv, accv)"
   ]
  },
  {
   "cell_type": "code",
   "execution_count": 9,
   "metadata": {},
   "outputs": [
    {
     "data": {
      "image/png": "[encoded data removed]",
      "text/plain": [
       "<matplotlib.figure.Figure at 0x1300d8dd8>"
      ]
     },
     "metadata": {},
     "output_type": "display_data"
    },
    {
     "data": {
      "image/png": "[encoded data removed]",
      "text/plain": [
       "<matplotlib.figure.Figure at 0x135df80b8>"
      ]
     },
     "metadata": {},
     "output_type": "display_data"
    }
   ],
   "source": [
    "plt.figure(figsize=(5,3))\n",
    "plt.plot(np.arange(1,epochs+1), lossv)\n",
    "plt.title('validation loss')\n",
    "\n",
    "plt.figure(figsize=(5,3))\n",
    "plt.plot(np.arange(1,epochs+1), accv)\n",
    "plt.title('validation accuracy');"
   ]
  }
 ],
 "metadata": {
  "kernelspec": {
   "display_name": "Python 3",
   "language": "python",
   "name": "python3"
  },
  "language_info": {
   "codemirror_mode": {
    "name": "ipython",
    "version": 3
   },
   "file_extension": ".py",
   "mimetype": "text/x-python",
   "name": "python",
   "nbconvert_exporter": "python",
   "pygments_lexer": "ipython3",
   "version": "3.6.2"
  }
 },
 "nbformat": 4,
 "nbformat_minor": 2
}
